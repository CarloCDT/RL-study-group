{
 "cells": [
  {
   "cell_type": "code",
   "execution_count": 11,
   "metadata": {},
   "outputs": [],
   "source": [
    "import gym\n",
    "from tqdm import tqdm"
   ]
  },
  {
   "cell_type": "code",
   "execution_count": 12,
   "metadata": {},
   "outputs": [],
   "source": [
    "# Environment\n",
    "env = gym.make(\"FrozenLake-v1\")\n",
    "\n",
    "# Set a deterministic policy\n",
    "policy = {0:0, 1:3, 2:3, 3:3, 4:0, 5:0, 6:0, 7:0, 8:3, 9:1, 10:0, 11:0, 12:0, 13:2, 14:1, 15:0}"
   ]
  },
  {
   "cell_type": "code",
   "execution_count": 13,
   "metadata": {},
   "outputs": [],
   "source": [
    "# Reset env\n",
    "env.reset()\n",
    "env.render()\n",
    "state = env.s\n",
    "\n",
    "# Initial action\n",
    "action = policy[state]\n",
    "done = False\n",
    "\n",
    "while not done:\n",
    "\n",
    "    new_state, reward, done, _ = env.step(action)\n",
    "    new_action = policy[new_state]\n",
    "\n",
    "    # Render\n",
    "    env.render()\n",
    "\n",
    "    # Update state and action\n",
    "    state, action = new_state, new_action\n",
    "\n",
    "env.close()"
   ]
  },
  {
   "cell_type": "code",
   "execution_count": 14,
   "metadata": {},
   "outputs": [
    {
     "name": "stderr",
     "output_type": "stream",
     "text": [
      "100%|██████████| 100000/100000 [00:47<00:00, 2101.69it/s]"
     ]
    },
    {
     "name": "stdout",
     "output_type": "stream",
     "text": [
      "Percentage of successful games: 74.28%\n"
     ]
    },
    {
     "name": "stderr",
     "output_type": "stream",
     "text": [
      "\n"
     ]
    }
   ],
   "source": [
    "# Set number of games\n",
    "num_games = 100000\n",
    "\n",
    "cum_reward = 0\n",
    "\n",
    "for _ in tqdm(range(num_games)):\n",
    "\n",
    "    # Reset env\n",
    "    env.reset()\n",
    "    state = env.s\n",
    "\n",
    "    # Initial action\n",
    "    action = policy[state]\n",
    "    done = False\n",
    "\n",
    "    while not done:\n",
    "\n",
    "        new_state, reward, done, _ = env.step(action)\n",
    "        new_action = policy[new_state]\n",
    "\n",
    "        # Update reward\n",
    "        cum_reward += reward\n",
    "\n",
    "        # Update state and action\n",
    "        state, action = new_state, new_action\n",
    "\n",
    "print(\"Percentage of successful games: {:.2f}%\".format(100*cum_reward/num_games))"
   ]
  },
  {
   "cell_type": "code",
   "execution_count": null,
   "metadata": {},
   "outputs": [],
   "source": []
  }
 ],
 "metadata": {
  "interpreter": {
   "hash": "82d32fc98f14cfa6b8205df4b5bfe4bbe5e3def02f418840806660056da1b581"
  },
  "kernelspec": {
   "display_name": "Python 3.8.10 64-bit (windows store)",
   "language": "python",
   "name": "python3"
  },
  "language_info": {
   "codemirror_mode": {
    "name": "ipython",
    "version": 3
   },
   "file_extension": ".py",
   "mimetype": "text/x-python",
   "name": "python",
   "nbconvert_exporter": "python",
   "pygments_lexer": "ipython3",
   "version": "3.8.10"
  },
  "orig_nbformat": 4
 },
 "nbformat": 4,
 "nbformat_minor": 2
}
