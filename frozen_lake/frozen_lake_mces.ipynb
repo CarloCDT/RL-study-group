{
 "cells": [
  {
   "cell_type": "code",
   "execution_count": 1,
   "metadata": {},
   "outputs": [
    {
     "name": "stderr",
     "output_type": "stream",
     "text": [
      "C:\\Users\\carlo\\.conda\\envs\\RL\\lib\\site-packages\\matplotlib_inline\\config.py:66: DeprecationWarning: InlineBackend._figure_formats_changed is deprecated in traitlets 4.1: use @observe and @unobserve instead.\n",
      "  def _figure_formats_changed(self, name, old, new):\n"
     ]
    }
   ],
   "source": [
    "# Libraries\n",
    "import numpy as np\n",
    "import pandas as pd\n",
    "import gym\n",
    "from tqdm import tqdm\n",
    "\n",
    "from matplotlib import pyplot as plt\n",
    "from matplotlib.tri import Triangulation\n",
    "import seaborn as sns\n",
    "\n",
    "# Pandas configuration\n",
    "pd.set_option('display.max_rows', 500)\n",
    "pd.set_option('display.max_columns', 500)\n",
    "pd.set_option('display.width', 1000)\n",
    "\n",
    "sns.set_context(\"talk\")"
   ]
  },
  {
   "cell_type": "markdown",
   "metadata": {},
   "source": [
    "# Monte Carlo ES (Exploring Starts)\n",
    "The environment is deterministic (it never changes). Exploring starts with Monte Carlo."
   ]
  },
  {
   "cell_type": "code",
   "execution_count": 3,
   "metadata": {},
   "outputs": [
    {
     "name": "stderr",
     "output_type": "stream",
     "text": [
      "100%|██████████| 10000/10000 [06:10<00:00, 26.96it/s]\n"
     ]
    }
   ],
   "source": [
    "# Action to take at state S.\n",
    "policy = {}\n",
    "\n",
    "# Returns\n",
    "monte_carlo = pd.DataFrame(columns=[\"state\", \"action\", \"return\"])\n",
    "gamma = 0.99\n",
    "\n",
    "# Environment\n",
    "env = gym.make(\"FrozenLake-v1\")\n",
    "\n",
    "# Iteration Period\n",
    "for _ in tqdm(range(10000)):\n",
    "\n",
    "    # Set up environment\n",
    "    env.reset()\n",
    "\n",
    "    # Select a random start S0, A0.\n",
    "    state, action = env.observation_space.sample(), env.action_space.sample()\n",
    "\n",
    "    # Change initial state\n",
    "    env = env.unwrapped\n",
    "    env.s = state\n",
    "    #env.render()\n",
    "\n",
    "    done = False\n",
    "\n",
    "    # Cache\n",
    "    episode_states = [state]\n",
    "    episode_actions = [action]\n",
    "    episode_rewards = []\n",
    "\n",
    "    while not done:\n",
    "   \n",
    "        new_state, reward, done, _ = env.step(action)\n",
    "        #env.render()\n",
    "\n",
    "        # Random if needed\n",
    "        if new_state not in policy:\n",
    "            policy[new_state] = env.action_space.sample()\n",
    "\n",
    "        new_action = policy[new_state]\n",
    "        \n",
    "        # Append new values\n",
    "        episode_states.append(new_state)\n",
    "        episode_actions.append(new_action)\n",
    "        episode_rewards.append(reward)\n",
    "\n",
    "        # Update values\n",
    "        state, action = new_state, new_action\n",
    "\n",
    "    # G\n",
    "    G = 0\n",
    "    \n",
    "    for idx in range(len(episode_rewards)):\n",
    "\n",
    "        G = gamma*G + episode_rewards[-(idx+1)]\n",
    "\n",
    "        if (episode_states[-(idx+2)], episode_actions[-(idx+2)]) not in zip(episode_states[:-(idx+2)],episode_actions[:-(idx+2)]):\n",
    "\n",
    "            new = pd.DataFrame([[episode_states[-(idx+2)], episode_actions[-(idx+2)], G]], columns=[\"state\", \"action\", \"return\"])\n",
    "            monte_carlo = pd.concat([monte_carlo, new])\n",
    "\n",
    "            # Calculate average returns\n",
    "            average_returns = monte_carlo.groupby([\"state\",\"action\"])[\"return\"].mean().reset_index()\n",
    "\n",
    "            # Update Policy\n",
    "            new_policy = average_returns.copy()\n",
    "            new_policy[\"rn\"] = average_returns.sort_values([\"state\",\"return\"], ascending=[True,False]).groupby(['state']).cumcount() + 1\n",
    "            new_policy = new_policy[new_policy[\"rn\"]==1]\n",
    "\n",
    "            for _, row in new_policy.iterrows():\n",
    "                policy[int(row['state'])] = int(row['action'])\n"
   ]
  },
  {
   "cell_type": "markdown",
   "metadata": {},
   "source": [
    "## Policy"
   ]
  },
  {
   "cell_type": "code",
   "execution_count": 11,
   "metadata": {},
   "outputs": [],
   "source": [
    "env_h = 4\n",
    "env_w = 4\n",
    "\n",
    "direction_dict = {0:\"←\", 1:\"↓\", 2:\"→\", 3:\"↑\"}\n",
    "new_policy[\"label\"] = new_policy[\"action\"].apply(lambda x: direction_dict[x])\n",
    "new_policy[\"x\"] = new_policy[\"state\"].apply(lambda x: x//env_w)\n",
    "new_policy[\"y\"] = new_policy[\"state\"].apply(lambda x: x%env_w)"
   ]
  },
  {
   "cell_type": "code",
   "execution_count": 14,
   "metadata": {},
   "outputs": [
    {
     "data": {
      "image/png": "[encoded data removed]",
      "text/plain": [
       "<Figure size 1152x504 with 2 Axes>"
      ]
     },
     "metadata": {
      "needs_background": "light"
     },
     "output_type": "display_data"
    }
   ],
   "source": [
    "# Reshape Data\n",
    "returns = new_policy.pivot(\"x\", \"y\", \"return\")\n",
    "direction = new_policy.pivot(\"x\", \"y\", \"label\")\n",
    "\n",
    "# Plot\n",
    "fig, axes = plt.subplots(1, 2, figsize=(16,7))\n",
    "fig.suptitle('State Values and Policy',)\n",
    "\n",
    "sns.heatmap(new_policy.pivot(\"x\", \"y\", \"return\"), annot=True, linewidths=.5, cbar=False, cmap=\"Greens\", ax=axes[0]);\n",
    "sns.heatmap(new_policy.pivot(\"x\", \"y\", \"return\"), annot=np.array(direction), linewidths=.5, cbar=False, cmap=\"Greens\", fmt = '', ax=axes[1]);"
   ]
  }
 ],
 "metadata": {
  "interpreter": {
   "hash": "f9a346b29ee27cfd51f9c9c299f08358c31589945852f27a7b31cfcf1cc06379"
  },
  "kernelspec": {
   "display_name": "Python 3.8.12 ('RL')",
   "language": "python",
   "name": "python3"
  },
  "language_info": {
   "codemirror_mode": {
    "name": "ipython",
    "version": 3
   },
   "file_extension": ".py",
   "mimetype": "text/x-python",
   "name": "python",
   "nbconvert_exporter": "python",
   "pygments_lexer": "ipython3",
   "version": "3.8.12"
  },
  "orig_nbformat": 4
 },
 "nbformat": 4,
 "nbformat_minor": 2
}
