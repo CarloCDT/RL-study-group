{
 "cells": [
  {
   "cell_type": "code",
   "execution_count": 2,
   "metadata": {},
   "outputs": [
    {
     "name": "stderr",
     "output_type": "stream",
     "text": [
      "C:\\Users\\carlo\\.conda\\envs\\RL\\lib\\site-packages\\matplotlib_inline\\config.py:66: DeprecationWarning: InlineBackend._figure_formats_changed is deprecated in traitlets 4.1: use @observe and @unobserve instead.\n",
      "  def _figure_formats_changed(self, name, old, new):\n"
     ]
    }
   ],
   "source": [
    "import gym\n",
    "from tqdm import tqdm\n",
    "import collections\n",
    "import numpy as np\n",
    "\n",
    "import pandas as pd\n",
    "import seaborn as sns\n",
    "import matplotlib.pyplot as plt\n",
    "\n",
    "sns.set_context(\"talk\")\n",
    "plt.rcParams[\"figure.figsize\"] = (12, 8)"
   ]
  },
  {
   "cell_type": "code",
   "execution_count": 11,
   "metadata": {},
   "outputs": [],
   "source": [
    "# Environment\n",
    "env = gym.make(\"FrozenLake8x8-v1\")\n",
    "size = (8,8)\n",
    "\n",
    "# Set a plocies to test\n",
    "#policy = {0:0, 1:3, 2:3, 3:3, 4:0, 5:0, 6:0, 7:0, 8:3, 9:1, 10:0, 11:0, 12:0, 13:2, 14:1, 15:0}\n",
    "#policy = dict(zip(range(16),[0, 3, 0, 3, 0, 1, 2, 1, 3, 1, 0, 2, 3, 2, 1, 0])) \n",
    "\n",
    "policy = {  0: 2,\n",
    "            1: 2,\n",
    "            2: 2,\n",
    "            3: 2,\n",
    "            4: 2,\n",
    "            5: 2,\n",
    "            6: 2,\n",
    "            7: 1,\n",
    "            8: 3,\n",
    "            9: 3,\n",
    "            10: 3,\n",
    "            11: 3,\n",
    "            12: 3,\n",
    "            13: 3,\n",
    "            14: 2,\n",
    "            15: 2,\n",
    "            16: 3,\n",
    "            17: 3,\n",
    "            18: 0,\n",
    "            19: 0,\n",
    "            20: 2,\n",
    "            21: 3,\n",
    "            22: 2,\n",
    "            23: 2,\n",
    "            24: 2,\n",
    "            25: 3,\n",
    "            26: 0,\n",
    "            27: 3,\n",
    "            28: 0,\n",
    "            29: 0,\n",
    "            30: 2,\n",
    "            31: 2,\n",
    "            32: 3,\n",
    "            33: 2,\n",
    "            34: 3,\n",
    "            35: 0,\n",
    "            36: 2,\n",
    "            37: 1,\n",
    "            38: 3,\n",
    "            39: 2,\n",
    "            40: 2,\n",
    "            41: 0,\n",
    "            42: 0,\n",
    "            43: 1,\n",
    "            44: 3,\n",
    "            45: 0,\n",
    "            46: 0,\n",
    "            47: 2,\n",
    "            48: 0,\n",
    "            49: 0,\n",
    "            50: 0,\n",
    "            51: 2,\n",
    "            52: 0,\n",
    "            53: 2,\n",
    "            54: 0,\n",
    "            55: 2,\n",
    "            56: 0,\n",
    "            57: 0,\n",
    "            58: 0,\n",
    "            59: 0,\n",
    "            60: 2,\n",
    "            61: 0,\n",
    "            62: 0,\n",
    "            63: 2}\n"
   ]
  },
  {
   "cell_type": "markdown",
   "metadata": {},
   "source": [
    "# Testing"
   ]
  },
  {
   "cell_type": "markdown",
   "metadata": {},
   "source": [
    "Test one game using a deterministic policy."
   ]
  },
  {
   "cell_type": "code",
   "execution_count": 12,
   "metadata": {},
   "outputs": [],
   "source": [
    "\n",
    "# Reset env\n",
    "env.reset()\n",
    "env.render()\n",
    "state = env.s\n",
    "\n",
    "# Initial action\n",
    "\n",
    "action = policy[state]\n",
    "#action = np.random.randint(4)\n",
    "\n",
    "done = False\n",
    "\n",
    "while not done:\n",
    "\n",
    "    new_state, reward, done, _ = env.step(action)\n",
    "    #new_action = np.random.randint(4) # Random\n",
    "    new_action = policy[new_state]\n",
    "\n",
    "    # Render\n",
    "    env.render()\n",
    "\n",
    "    # Update state and action\n",
    "    state, action = new_state, new_action\n",
    "\n"
   ]
  },
  {
   "cell_type": "markdown",
   "metadata": {},
   "source": [
    "Test the percentage of winning games, for n=100,000 games."
   ]
  },
  {
   "cell_type": "code",
   "execution_count": 15,
   "metadata": {},
   "outputs": [
    {
     "name": "stderr",
     "output_type": "stream",
     "text": [
      "100%|██████████| 10000/10000 [00:03<00:00, 2543.02it/s]"
     ]
    },
    {
     "name": "stdout",
     "output_type": "stream",
     "text": [
      "Percentage of successful games: 72.18%\n"
     ]
    },
    {
     "name": "stderr",
     "output_type": "stream",
     "text": [
      "\n"
     ]
    }
   ],
   "source": [
    "# Set number of games\n",
    "num_games = 10000#0000\n",
    "\n",
    "cum_reward = 0\n",
    "\n",
    "for _ in tqdm(range(num_games)):\n",
    "\n",
    "    # Reset env\n",
    "    env.reset()\n",
    "    state = env.s\n",
    "\n",
    "    # Initial action\n",
    "    action = policy[state]\n",
    "    done = False\n",
    "\n",
    "    while not done:\n",
    "\n",
    "        new_state, reward, done, _ = env.step(action)\n",
    "        new_action = policy[new_state]\n",
    "\n",
    "        # Update reward\n",
    "        cum_reward += reward\n",
    "\n",
    "        # Update state and action\n",
    "        state, action = new_state, new_action\n",
    "\n",
    "print(\"Percentage of successful games: {:.2f}%\".format(100*cum_reward/num_games))"
   ]
  },
  {
   "cell_type": "markdown",
   "metadata": {},
   "source": [
    "Plot 10 episodes heatmap"
   ]
  },
  {
   "cell_type": "code",
   "execution_count": 76,
   "metadata": {},
   "outputs": [
    {
     "name": "stderr",
     "output_type": "stream",
     "text": [
      "100%|██████████| 1000/1000 [00:00<00:00, 2277.56it/s]\n"
     ]
    },
    {
     "data": {
      "image/png": "[encoded data removed]",
      "text/plain": [
       "<Figure size 864x576 with 1 Axes>"
      ]
     },
     "metadata": {
      "needs_background": "light"
     },
     "output_type": "display_data"
    }
   ],
   "source": [
    "# Set number of games\n",
    "num_games = 1000\n",
    "states = []\n",
    "\n",
    "for _ in tqdm(range(num_games)):\n",
    "\n",
    "    # Reset env\n",
    "    env.reset()\n",
    "    state = env.s\n",
    "    states.append(state)\n",
    "\n",
    "    # Initial action\n",
    "    action = policy[state]\n",
    "    done = False\n",
    "\n",
    "    while not done:\n",
    "\n",
    "        new_state, reward, done, _ = env.step(action)\n",
    "        new_action = policy[new_state]\n",
    "\n",
    "        # Update state and action\n",
    "        state, action = new_state, new_action\n",
    "        states.append(state)\n",
    "\n",
    "counter = dict(collections.Counter(states))\n",
    "\n",
    "freqs = pd.DataFrame.from_dict(counter, orient='index').reset_index().rename(columns={'index':\"state\", 0:\"freq\"})\n",
    "freqs[\"x\"] = freqs[\"state\"].apply(lambda x: x//size[0])\n",
    "freqs[\"y\"] = freqs[\"state\"].apply(lambda x: x%size[1])\n",
    "\n",
    "# Reshape Data\n",
    "returns = freqs.pivot(\"x\", \"y\", \"freq\")\n",
    "\n",
    "# Plot\n",
    "fig, axes = plt.subplots()\n",
    "fig.suptitle('Q-Learning\\nVisits over 1000 episodes')\n",
    "\n",
    "sns.heatmap(returns, annot=True, linewidths=.5, cbar=False, cmap=\"Reds\",fmt='g');"
   ]
  }
 ],
 "metadata": {
  "interpreter": {
   "hash": "82d32fc98f14cfa6b8205df4b5bfe4bbe5e3def02f418840806660056da1b581"
  },
  "kernelspec": {
   "display_name": "Python 3.8.10 64-bit (windows store)",
   "language": "python",
   "name": "python3"
  },
  "language_info": {
   "codemirror_mode": {
    "name": "ipython",
    "version": 3
   },
   "file_extension": ".py",
   "mimetype": "text/x-python",
   "name": "python",
   "nbconvert_exporter": "python",
   "pygments_lexer": "ipython3",
   "version": "3.8.12"
  },
  "orig_nbformat": 4
 },
 "nbformat": 4,
 "nbformat_minor": 2
}
