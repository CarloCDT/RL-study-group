{
 "cells": [
  {
   "cell_type": "code",
   "execution_count": 1,
   "metadata": {},
   "outputs": [
    {
     "name": "stderr",
     "output_type": "stream",
     "text": [
      "c:\\ProgramData\\Anaconda3\\envs\\tf\\lib\\site-packages\\keras\\utils\\image_utils.py:36: DeprecationWarning: NEAREST is deprecated and will be removed in Pillow 10 (2023-07-01). Use Resampling.NEAREST or Dither.NONE instead.\n",
      "  'nearest': pil_image.NEAREST,\n",
      "c:\\ProgramData\\Anaconda3\\envs\\tf\\lib\\site-packages\\keras\\utils\\image_utils.py:37: DeprecationWarning: BILINEAR is deprecated and will be removed in Pillow 10 (2023-07-01). Use Resampling.BILINEAR instead.\n",
      "  'bilinear': pil_image.BILINEAR,\n",
      "c:\\ProgramData\\Anaconda3\\envs\\tf\\lib\\site-packages\\keras\\utils\\image_utils.py:38: DeprecationWarning: BICUBIC is deprecated and will be removed in Pillow 10 (2023-07-01). Use Resampling.BICUBIC instead.\n",
      "  'bicubic': pil_image.BICUBIC,\n",
      "c:\\ProgramData\\Anaconda3\\envs\\tf\\lib\\site-packages\\keras\\utils\\image_utils.py:39: DeprecationWarning: HAMMING is deprecated and will be removed in Pillow 10 (2023-07-01). Use Resampling.HAMMING instead.\n",
      "  'hamming': pil_image.HAMMING,\n",
      "c:\\ProgramData\\Anaconda3\\envs\\tf\\lib\\site-packages\\keras\\utils\\image_utils.py:40: DeprecationWarning: BOX is deprecated and will be removed in Pillow 10 (2023-07-01). Use Resampling.BOX instead.\n",
      "  'box': pil_image.BOX,\n",
      "c:\\ProgramData\\Anaconda3\\envs\\tf\\lib\\site-packages\\keras\\utils\\image_utils.py:41: DeprecationWarning: LANCZOS is deprecated and will be removed in Pillow 10 (2023-07-01). Use Resampling.LANCZOS instead.\n",
      "  'lanczos': pil_image.LANCZOS,\n"
     ]
    }
   ],
   "source": [
    "# Car Racing Environment\n",
    "from car_racing import CarRacingEnvironment\n",
    "import numpy as np\n",
    "\n",
    "# Open AI gym\n",
    "import gym\n",
    "\n",
    "# TensorFlow\n",
    "import tensorflow as tf\n",
    "from tensorflow.keras.models import Sequential\n",
    "from tensorflow.keras.layers import Conv2D, MaxPooling2D, Flatten, Dense\n",
    "from tensorflow.keras.optimizers import Adam"
   ]
  },
  {
   "cell_type": "code",
   "execution_count": 2,
   "metadata": {},
   "outputs": [
    {
     "name": "stderr",
     "output_type": "stream",
     "text": [
      "c:\\ProgramData\\Anaconda3\\envs\\tf\\lib\\site-packages\\keras\\optimizers\\optimizer_v2\\adam.py:110: UserWarning: The `lr` argument is deprecated, use `learning_rate` instead.\n",
      "  super(Adam, self).__init__(name, **kwargs)\n"
     ]
    }
   ],
   "source": [
    "# Parameters\n",
    "frame_stack_num = 3,\n",
    "memory_size     = 5000,\n",
    "gamma           = 0.95,  # discount rate\n",
    "epsilon         = 1.0,   # exploration rate\n",
    "epsilon_min     = 0.1,\n",
    "epsilon_decay   = 0.9999,\n",
    "learning_rate   = 0.001\n",
    "\n",
    "action_space    = [\n",
    "            (-1, 1, 0.2), (0, 1, 0.2), (1, 1, 0.2), #           Action Space Structure\n",
    "            (-1, 1,   0), (0, 1,   0), (1, 1,   0), #        (Steering Wheel, Gas, Break)\n",
    "            (-1, 0, 0.2), (0, 0, 0.2), (1, 0, 0.2), # Range        -1~1       0~1   0~1\n",
    "            (-1, 0,   0), (0, 0,   0), (1, 0,   0)\n",
    "        ]\n",
    "\n",
    "action_space = [0, 1, 2, 3, 4]\n",
    "\n",
    "def build_model():\n",
    "    # Neural Net for Deep-Q learning Model\n",
    "    input_images = tf.keras.layers.Input(((96, 96, 3)))\n",
    "    #input_sensors = tf.keras.layers.Input(((6, 3)))\n",
    "    \n",
    "    x = Conv2D(filters=6, kernel_size=(7, 7), strides=3, activation='relu', input_shape=(96, 96, 3))(input_images)\n",
    "    x = MaxPooling2D(pool_size=(2, 2))(x)\n",
    "    x = Conv2D(filters=12, kernel_size=(4, 4), activation='relu')(x)\n",
    "    x = MaxPooling2D(pool_size=(2, 2))(x)\n",
    "    x = Flatten()(x)\n",
    "    x = Dense(216, activation='relu')(x)\n",
    "    #output1 = Dense(16, activation='relu')(x) # New Addition\n",
    "\n",
    "    #concatted = tf.keras.layers.Concatenate()([output1, input_sensors[:,:,0]])\n",
    "    #x = Dense(16, activation='relu')(concatted)\n",
    "\n",
    "    outputs = Dense(len(action_space), activation=None)(x)\n",
    "\n",
    "    model = tf.keras.Model(input_images, outputs)\n",
    "    model.compile(loss='mean_squared_error', optimizer=Adam(lr=0.001, epsilon=1e-7))\n",
    "    return model\n",
    "\n",
    "\n",
    "model = build_model()"
   ]
  },
  {
   "cell_type": "code",
   "execution_count": 3,
   "metadata": {},
   "outputs": [
    {
     "name": "stdout",
     "output_type": "stream",
     "text": [
      "Model: \"model\"\n",
      "_________________________________________________________________\n",
      " Layer (type)                Output Shape              Param #   \n",
      "=================================================================\n",
      " input_1 (InputLayer)        [(None, 96, 96, 3)]       0         \n",
      "                                                                 \n",
      " conv2d (Conv2D)             (None, 30, 30, 6)         888       \n",
      "                                                                 \n",
      " max_pooling2d (MaxPooling2D  (None, 15, 15, 6)        0         \n",
      " )                                                               \n",
      "                                                                 \n",
      " conv2d_1 (Conv2D)           (None, 12, 12, 12)        1164      \n",
      "                                                                 \n",
      " max_pooling2d_1 (MaxPooling  (None, 6, 6, 12)         0         \n",
      " 2D)                                                             \n",
      "                                                                 \n",
      " flatten (Flatten)           (None, 432)               0         \n",
      "                                                                 \n",
      " dense (Dense)               (None, 216)               93528     \n",
      "                                                                 \n",
      " dense_1 (Dense)             (None, 5)                 1085      \n",
      "                                                                 \n",
      "=================================================================\n",
      "Total params: 96,665\n",
      "Trainable params: 96,665\n",
      "Non-trainable params: 0\n",
      "_________________________________________________________________\n"
     ]
    }
   ],
   "source": [
    "model.summary()"
   ]
  },
  {
   "cell_type": "code",
   "execution_count": 4,
   "metadata": {},
   "outputs": [
    {
     "data": {
      "image/png": "[encoded data removed]",
      "text/plain": [
       "<IPython.core.display.Image object>"
      ]
     },
     "execution_count": 4,
     "metadata": {},
     "output_type": "execute_result"
    }
   ],
   "source": [
    "dot_img_file = 'model_1.png'\n",
    "tf.keras.utils.plot_model(model, to_file=dot_img_file, show_shapes=True)"
   ]
  },
  {
   "cell_type": "code",
   "execution_count": 5,
   "metadata": {},
   "outputs": [],
   "source": [
    "# Set weights\n",
    "model.load_weights('trained_networks/agent_011.h5')"
   ]
  },
  {
   "cell_type": "code",
   "execution_count": 6,
   "metadata": {},
   "outputs": [
    {
     "name": "stdout",
     "output_type": "stream",
     "text": [
      "1/1 [==============================] - 10s 10s/step\n"
     ]
    }
   ],
   "source": [
    "act_values = model.predict(np.expand_dims(observation, axis=0))\n",
    "action_index = np.argmax(act_values[0])"
   ]
  },
  {
   "cell_type": "code",
   "execution_count": 7,
   "metadata": {},
   "outputs": [
    {
     "name": "stdout",
     "output_type": "stream",
     "text": [
      "Model: \"sequential\"\n",
      "_________________________________________________________________\n",
      " Layer (type)                Output Shape              Param #   \n",
      "=================================================================\n",
      " conv2d (Conv2D)             (None, 30, 30, 6)         888       \n",
      "                                                                 \n",
      " max_pooling2d (MaxPooling2D  (None, 15, 15, 6)        0         \n",
      " )                                                               \n",
      "                                                                 \n",
      " conv2d_1 (Conv2D)           (None, 12, 12, 12)        1164      \n",
      "                                                                 \n",
      " max_pooling2d_1 (MaxPooling  (None, 6, 6, 12)         0         \n",
      " 2D)                                                             \n",
      "                                                                 \n",
      " flatten (Flatten)           (None, 432)               0         \n",
      "                                                                 \n",
      " dense (Dense)               (None, 216)               93528     \n",
      "                                                                 \n",
      " dense_1 (Dense)             (None, 12)                2604      \n",
      "                                                                 \n",
      "=================================================================\n",
      "Total params: 98,184\n",
      "Trainable params: 98,184\n",
      "Non-trainable params: 0\n",
      "_________________________________________________________________\n"
     ]
    }
   ],
   "source": [
    "model.summary()"
   ]
  },
  {
   "cell_type": "code",
   "execution_count": 8,
   "metadata": {},
   "outputs": [
    {
     "data": {
      "text/plain": [
       "array([117.57352 , 167.11661 ,  45.165848, 130.52705 ,  86.707756,\n",
       "        87.269554, 179.42297 , 149.10497 ,  60.82204 , 157.84099 ,\n",
       "       140.84491 ,  99.12678 ], dtype=float32)"
      ]
     },
     "execution_count": 8,
     "metadata": {},
     "output_type": "execute_result"
    }
   ],
   "source": [
    "np.array(model.predict(np.expand_dims(observation, axis=0), verbose=0)[0])/100"
   ]
  },
  {
   "cell_type": "code",
   "execution_count": 9,
   "metadata": {},
   "outputs": [],
   "source": [
    "model.save('trained_networks/agent_012_trim.h5')"
   ]
  },
  {
   "cell_type": "code",
   "execution_count": 10,
   "metadata": {},
   "outputs": [
    {
     "name": "stdout",
     "output_type": "stream",
     "text": [
      "Model: \"model\"\n",
      "_________________________________________________________________\n",
      " Layer (type)                Output Shape              Param #   \n",
      "=================================================================\n",
      " conv2d_input (InputLayer)   [(None, 96, 96, 3)]       0         \n",
      "                                                                 \n",
      " conv2d (Conv2D)             (None, 30, 30, 6)         888       \n",
      "                                                                 \n",
      " max_pooling2d (MaxPooling2D  (None, 15, 15, 6)        0         \n",
      " )                                                               \n",
      "                                                                 \n",
      " conv2d_1 (Conv2D)           (None, 12, 12, 12)        1164      \n",
      "                                                                 \n",
      " max_pooling2d_1 (MaxPooling  (None, 6, 6, 12)         0         \n",
      " 2D)                                                             \n",
      "                                                                 \n",
      " flatten (Flatten)           (None, 432)               0         \n",
      "                                                                 \n",
      " dense (Dense)               (None, 216)               93528     \n",
      "                                                                 \n",
      "=================================================================\n",
      "Total params: 95,580\n",
      "Trainable params: 95,580\n",
      "Non-trainable params: 0\n",
      "_________________________________________________________________\n"
     ]
    }
   ],
   "source": [
    "from keras.models import Model\n",
    "\n",
    "model2 = Model(model.input, model.layers[-2].output)\n",
    "model2.summary()"
   ]
  },
  {
   "cell_type": "code",
   "execution_count": 11,
   "metadata": {},
   "outputs": [
    {
     "name": "stdout",
     "output_type": "stream",
     "text": [
      "WARNING:tensorflow:Compiled the loaded model, but the compiled metrics have yet to be built. `model.compile_metrics` will be empty until you train or evaluate the model.\n"
     ]
    }
   ],
   "source": [
    "model2.save('trained_networks/agent_011_trim.h5')"
   ]
  },
  {
   "cell_type": "code",
   "execution_count": 12,
   "metadata": {},
   "outputs": [
    {
     "name": "stdout",
     "output_type": "stream",
     "text": [
      "WARNING:tensorflow:No training configuration found in the save file, so the model was *not* compiled. Compile it manually.\n",
      "Model: \"model\"\n",
      "_________________________________________________________________\n",
      " Layer (type)                Output Shape              Param #   \n",
      "=================================================================\n",
      " conv2d_input (InputLayer)   [(None, 96, 96, 3)]       0         \n",
      "                                                                 \n",
      " conv2d (Conv2D)             (None, 30, 30, 6)         888       \n",
      "                                                                 \n",
      " max_pooling2d (MaxPooling2D  (None, 15, 15, 6)        0         \n",
      " )                                                               \n",
      "                                                                 \n",
      " conv2d_1 (Conv2D)           (None, 12, 12, 12)        1164      \n",
      "                                                                 \n",
      " max_pooling2d_1 (MaxPooling  (None, 6, 6, 12)         0         \n",
      " 2D)                                                             \n",
      "                                                                 \n",
      " flatten (Flatten)           (None, 432)               0         \n",
      "                                                                 \n",
      " dense (Dense)               (None, 216)               93528     \n",
      "                                                                 \n",
      "=================================================================\n",
      "Total params: 95,580\n",
      "Trainable params: 95,580\n",
      "Non-trainable params: 0\n",
      "_________________________________________________________________\n"
     ]
    }
   ],
   "source": [
    "model3 = tf.keras.models.load_model('trained_networks/agent_011_trim.h5')\n",
    "model3.summary()"
   ]
  },
  {
   "cell_type": "code",
   "execution_count": 13,
   "metadata": {},
   "outputs": [
    {
     "data": {
      "text/plain": [
       "216"
      ]
     },
     "execution_count": 13,
     "metadata": {},
     "output_type": "execute_result"
    }
   ],
   "source": [
    "len(list(model3.predict(np.expand_dims(observation, axis=0), verbose=0)[0]))"
   ]
  },
  {
   "cell_type": "code",
   "execution_count": 14,
   "metadata": {},
   "outputs": [
    {
     "data": {
      "image/png": "[encoded data removed]",
      "text/plain": [
       "<IPython.core.display.Image object>"
      ]
     },
     "execution_count": 14,
     "metadata": {},
     "output_type": "execute_result"
    }
   ],
   "source": [
    "dot_img_file = 'model_1.png'\n",
    "tf.keras.utils.plot_model(model3, to_file=dot_img_file, show_shapes=True)"
   ]
  },
  {
   "cell_type": "markdown",
   "metadata": {},
   "source": [
    "# Test All Agents"
   ]
  },
  {
   "cell_type": "code",
   "execution_count": 2,
   "metadata": {},
   "outputs": [
    {
     "name": "stderr",
     "output_type": "stream",
     "text": [
      "c:\\ProgramData\\Anaconda3\\envs\\tf\\lib\\site-packages\\keras\\utils\\image_utils.py:36: DeprecationWarning: NEAREST is deprecated and will be removed in Pillow 10 (2023-07-01). Use Resampling.NEAREST or Dither.NONE instead.\n",
      "  'nearest': pil_image.NEAREST,\n",
      "c:\\ProgramData\\Anaconda3\\envs\\tf\\lib\\site-packages\\keras\\utils\\image_utils.py:37: DeprecationWarning: BILINEAR is deprecated and will be removed in Pillow 10 (2023-07-01). Use Resampling.BILINEAR instead.\n",
      "  'bilinear': pil_image.BILINEAR,\n",
      "c:\\ProgramData\\Anaconda3\\envs\\tf\\lib\\site-packages\\keras\\utils\\image_utils.py:38: DeprecationWarning: BICUBIC is deprecated and will be removed in Pillow 10 (2023-07-01). Use Resampling.BICUBIC instead.\n",
      "  'bicubic': pil_image.BICUBIC,\n",
      "c:\\ProgramData\\Anaconda3\\envs\\tf\\lib\\site-packages\\keras\\utils\\image_utils.py:39: DeprecationWarning: HAMMING is deprecated and will be removed in Pillow 10 (2023-07-01). Use Resampling.HAMMING instead.\n",
      "  'hamming': pil_image.HAMMING,\n",
      "c:\\ProgramData\\Anaconda3\\envs\\tf\\lib\\site-packages\\keras\\utils\\image_utils.py:40: DeprecationWarning: BOX is deprecated and will be removed in Pillow 10 (2023-07-01). Use Resampling.BOX instead.\n",
      "  'box': pil_image.BOX,\n",
      "c:\\ProgramData\\Anaconda3\\envs\\tf\\lib\\site-packages\\keras\\utils\\image_utils.py:41: DeprecationWarning: LANCZOS is deprecated and will be removed in Pillow 10 (2023-07-01). Use Resampling.LANCZOS instead.\n",
      "  'lanczos': pil_image.LANCZOS,\n"
     ]
    }
   ],
   "source": [
    "import gym\n",
    "\n",
    "import numpy as np\n",
    "from tqdm import tqdm\n",
    "\n",
    "# First set of experiments\n",
    "from agent import ExpectedSarsaAgent\n",
    "from car_racing import CarRacingEnvironment\n",
    "from rl_glue import RLGlue"
   ]
  },
  {
   "cell_type": "code",
   "execution_count": 1,
   "metadata": {},
   "outputs": [
    {
     "ename": "NameError",
     "evalue": "name 'np' is not defined",
     "output_type": "error",
     "traceback": [
      "\u001b[1;31m---------------------------------------------------------------------------\u001b[0m",
      "\u001b[1;31mNameError\u001b[0m                                 Traceback (most recent call last)",
      "\u001b[1;32mc:\\Users\\carlo\\Documents\\Carlo\\MLE\\RL-study-group\\car_racing\\02_car_racing_test.ipynb Cell 1'\u001b[0m in \u001b[0;36m<cell line: 2>\u001b[1;34m()\u001b[0m\n\u001b[0;32m      <a href='vscode-notebook-cell:/c%3A/Users/carlo/Documents/Carlo/MLE/RL-study-group/car_racing/02_car_racing_test.ipynb#ch0000000?line=0'>1</a>\u001b[0m agent_name \u001b[39m=\u001b[39m \u001b[39m'\u001b[39m\u001b[39magent_004_albon\u001b[39m\u001b[39m'\u001b[39m\n\u001b[1;32m----> <a href='vscode-notebook-cell:/c%3A/Users/carlo/Documents/Carlo/MLE/RL-study-group/car_racing/02_car_racing_test.ipynb#ch0000000?line=1'>2</a>\u001b[0m trained_weights \u001b[39m=\u001b[39m np\u001b[39m.\u001b[39mload(\u001b[39mf\u001b[39m\u001b[39m'\u001b[39m\u001b[39mtrained_networks/\u001b[39m\u001b[39m{\u001b[39;00magent_name\u001b[39m}\u001b[39;00m\u001b[39m.npy\u001b[39m\u001b[39m'\u001b[39m, allow_pickle\u001b[39m=\u001b[39m\u001b[39mTrue\u001b[39;00m)\n\u001b[0;32m      <a href='vscode-notebook-cell:/c%3A/Users/carlo/Documents/Carlo/MLE/RL-study-group/car_racing/02_car_racing_test.ipynb#ch0000000?line=3'>4</a>\u001b[0m current_agent \u001b[39m=\u001b[39m ExpectedSarsaAgent\n\u001b[0;32m      <a href='vscode-notebook-cell:/c%3A/Users/carlo/Documents/Carlo/MLE/RL-study-group/car_racing/02_car_racing_test.ipynb#ch0000000?line=4'>5</a>\u001b[0m current_env \u001b[39m=\u001b[39m CarRacingEnvironment\n",
      "\u001b[1;31mNameError\u001b[0m: name 'np' is not defined"
     ]
    }
   ],
   "source": [
    "agent_name = 'agent_004_albon'\n",
    "trained_weights = np.load(f'trained_networks/{agent_name}.npy', allow_pickle=True)\n",
    "\n",
    "current_agent = ExpectedSarsaAgent\n",
    "current_env = CarRacingEnvironment\n",
    "\n",
    "# Experiment parameters\n",
    "experiment_parameters = {\n",
    "    \"num_runs\" : 1,\n",
    "    \"num_episodes\" : 1000,\n",
    "    \"timeout\" : 1000, # timestep limit (set to 500 as default)\n",
    "}\n",
    "\n",
    "# Environment parameters\n",
    "environment_parameters = {}\n",
    "\n",
    "# Agent parameters\n",
    "agent_parameters = {\n",
    "    'network_config': {\n",
    "        'state_dim': 6, # State Dimension (number of inputs)\n",
    "        'num_hidden_units_1': 16, #\n",
    "        #'num_hidden_units_2': 16, #\n",
    "        'num_actions': 5 # Action Space (number of outputs)\n",
    "    },\n",
    "    'optimizer_config': {\n",
    "        'step_size': 1e-4, # 1e-3\n",
    "        'beta_m': 0.9,\n",
    "        'beta_v': 0.999, # 0.999\n",
    "        'epsilon': 1e-8\n",
    "    },\n",
    "    'replay_buffer_size': 10000,\n",
    "    'minibatch_sz': 64,\n",
    "    'num_replay_updates_per_step': 8,\n",
    "    'gamma': 0.99,\n",
    "    'tau': 0.005 # 0.001\n",
    "}\n",
    "\n",
    "rl_glue = RLGlue(current_env, current_agent)\n",
    "env_info = {}\n",
    "agent_info = agent_parameters\n",
    "agent_info[\"seed\"] = 0\n",
    "agent_info[\"network_config\"][\"seed\"] = 0\n",
    "env_info[\"seed\"] = 0\n",
    "\n",
    "rl_glue.rl_init(agent_info, env_info)\n",
    "rl_glue.agent.network.weights = trained_weights"
   ]
  },
  {
   "cell_type": "code",
   "execution_count": 8,
   "metadata": {},
   "outputs": [
    {
     "name": "stderr",
     "output_type": "stream",
     "text": [
      " 83%|████████▎ | 830/1000 [00:10<00:02, 79.25it/s]\n"
     ]
    },
    {
     "name": "stdout",
     "output_type": "stream",
     "text": [
      "Terminal State: All tiles visited!\n",
      "Reward: 916.9\n"
     ]
    },
    {
     "name": "stderr",
     "output_type": "stream",
     "text": [
      "100%|█████████▉| 999/1000 [00:12<00:00, 79.42it/s]\n"
     ]
    },
    {
     "name": "stdout",
     "output_type": "stream",
     "text": [
      "Terminal State: Max number of steps completed.\n",
      "Reward: 562.42\n"
     ]
    },
    {
     "name": "stderr",
     "output_type": "stream",
     "text": [
      " 84%|████████▍ | 839/1000 [00:10<00:02, 79.54it/s]\n"
     ]
    },
    {
     "name": "stdout",
     "output_type": "stream",
     "text": [
      "Terminal State: All tiles visited!\n",
      "Reward: 492.57\n"
     ]
    },
    {
     "name": "stderr",
     "output_type": "stream",
     "text": [
      "100%|█████████▉| 999/1000 [00:12<00:00, 81.87it/s]\n"
     ]
    },
    {
     "name": "stdout",
     "output_type": "stream",
     "text": [
      "Terminal State: Max number of steps completed.\n",
      "Reward: 794.55\n"
     ]
    },
    {
     "name": "stderr",
     "output_type": "stream",
     "text": [
      "100%|█████████▉| 999/1000 [00:12<00:00, 78.43it/s]\n"
     ]
    },
    {
     "name": "stdout",
     "output_type": "stream",
     "text": [
      "Terminal State: Max number of steps completed.\n",
      "Reward: 406.21\n"
     ]
    },
    {
     "name": "stderr",
     "output_type": "stream",
     "text": [
      "100%|█████████▉| 999/1000 [00:12<00:00, 79.97it/s]\n"
     ]
    },
    {
     "name": "stdout",
     "output_type": "stream",
     "text": [
      "Terminal State: Max number of steps completed.\n",
      "Reward: 107.36\n"
     ]
    },
    {
     "name": "stderr",
     "output_type": "stream",
     "text": [
      "100%|█████████▉| 999/1000 [00:12<00:00, 80.75it/s]\n"
     ]
    },
    {
     "name": "stdout",
     "output_type": "stream",
     "text": [
      "Terminal State: Max number of steps completed.\n",
      "Reward: 839.29\n"
     ]
    },
    {
     "name": "stderr",
     "output_type": "stream",
     "text": [
      "100%|█████████▉| 999/1000 [00:12<00:00, 80.79it/s]\n"
     ]
    },
    {
     "name": "stdout",
     "output_type": "stream",
     "text": [
      "Terminal State: Max number of steps completed.\n",
      "Reward: 323.57\n"
     ]
    },
    {
     "name": "stderr",
     "output_type": "stream",
     "text": [
      " 76%|███████▌  | 759/1000 [00:10<00:03, 75.38it/s]\n"
     ]
    },
    {
     "name": "stdout",
     "output_type": "stream",
     "text": [
      "Terminal State: All tiles visited!\n",
      "Reward: 924.0\n"
     ]
    },
    {
     "name": "stderr",
     "output_type": "stream",
     "text": [
      " 87%|████████▋ | 866/1000 [00:11<00:01, 78.07it/s]"
     ]
    },
    {
     "name": "stdout",
     "output_type": "stream",
     "text": [
      "Terminal State: All tiles visited!\n",
      "Reward: 781.26\n"
     ]
    },
    {
     "name": "stderr",
     "output_type": "stream",
     "text": [
      "\n"
     ]
    },
    {
     "data": {
      "text/plain": [
       "[916.9, 562.42, 492.57, 794.55, 406.21, 107.36, 839.29, 323.57, 924.0, 781.26]"
      ]
     },
     "execution_count": 8,
     "metadata": {},
     "output_type": "execute_result"
    }
   ],
   "source": [
    "seed_nums = [32, 45, 46, 83, 123, 934, 563, 1023, 27546, 32450]\n",
    "\n",
    "seed_num = seed_nums[0]\n",
    "\n",
    "scores = []\n",
    "\n",
    "\n",
    "for seed_num in seed_nums:\n",
    "    # Start Environment\n",
    "    rl_glue.environment.env_init()\n",
    "    rl_glue.environment.rand_generator = np.random.RandomState(4) # 2, 4, 9, 21\n",
    "\n",
    "    # Change tau (if needed)\n",
    "    rl_glue.agent.tau = 0.0001\n",
    "    time_steps = 1000\n",
    "\n",
    "    observation = rl_glue.environment.env_start()\n",
    "\n",
    "    rl_glue.environment.env.reset(seed=seed_num) # new\n",
    "\n",
    "    transformed_obs = rl_glue.transform_state(observation)\n",
    "    episode_reward = 0\n",
    "\n",
    "    for i in tqdm(range(time_steps)):\n",
    "        \n",
    "        # Select Action\n",
    "        action = rl_glue.agent.policy(transformed_obs)\n",
    "\n",
    "        # Do Action\n",
    "        reward, observation, is_terminal = rl_glue.environment.env_step(action)\n",
    "        transformed_obs = transformed_obs = observation = rl_glue.transform_state(observation)\n",
    "\n",
    "        episode_reward += reward\n",
    "\n",
    "        if is_terminal:\n",
    "            message = \"Terminal State: Max number of steps completed.\"\n",
    "            if i != time_steps-1:\n",
    "                message = \"Terminal State: All tiles visited!\"\n",
    "            print(message)\n",
    "            print(f'Reward: {round(episode_reward,2)}')\n",
    "            scores.append(round(episode_reward, 2))\n",
    "            break\n",
    "            observation = rl_glue.environment.env_start()\n",
    "\n",
    "        # Render\n",
    "        #rl_glue.environment.env.render();\n",
    "\n",
    "    rl_glue.environment.env.close();\n",
    "\n",
    "scores"
   ]
  },
  {
   "cell_type": "code",
   "execution_count": 11,
   "metadata": {},
   "outputs": [
    {
     "data": {
      "text/plain": [
       "614.8129999999999"
      ]
     },
     "execution_count": 11,
     "metadata": {},
     "output_type": "execute_result"
    }
   ],
   "source": [
    "np.mean(scores)"
   ]
  },
  {
   "cell_type": "markdown",
   "metadata": {},
   "source": [
    "# Agent 4"
   ]
  },
  {
   "cell_type": "code",
   "execution_count": 3,
   "metadata": {},
   "outputs": [],
   "source": [
    "agent_name = 'agent103'\n",
    "trained_weights = np.load(f'trained_networks/{agent_name}.npy', allow_pickle=True)\n",
    "\n",
    "current_agent = ExpectedSarsaAgent\n",
    "current_env = CarRacingEnvironment\n",
    "\n",
    "# Experiment parameters\n",
    "experiment_parameters = {\n",
    "    \"num_runs\" : 1,\n",
    "    \"num_episodes\" : 1000,\n",
    "    \"timeout\" : 1000, # timestep limit (set to 500 as default)\n",
    "}\n",
    "\n",
    "# Environment parameters\n",
    "environment_parameters = {}\n",
    "\n",
    "# Agent parameters\n",
    "agent_parameters = {\n",
    "    'network_config': {\n",
    "        'state_dim': 6+12, # State Dimension (number of inputs)\n",
    "        'num_hidden_units_1': 16, #\n",
    "        #'num_hidden_units_2': 16, #\n",
    "        'num_actions': 5 # Action Space (number of outputs)\n",
    "    },\n",
    "    'optimizer_config': {\n",
    "        'step_size': 1e-4, # 1e-3\n",
    "        'beta_m': 0.9,\n",
    "        'beta_v': 0.999, # 0.999\n",
    "        'epsilon': 1e-8\n",
    "    },\n",
    "    'replay_buffer_size': 10000,\n",
    "    'minibatch_sz': 64,\n",
    "    'num_replay_updates_per_step': 8,\n",
    "    'gamma': 0.99,\n",
    "    'tau': 0.0000001 # 0.001\n",
    "}\n",
    "\n",
    "rl_glue = RLGlue(current_env, current_agent)\n",
    "env_info = {}\n",
    "agent_info = agent_parameters\n",
    "agent_info[\"seed\"] = 0\n",
    "agent_info[\"network_config\"][\"seed\"] = 0\n",
    "env_info[\"seed\"] = 0\n",
    "\n",
    "rl_glue.rl_init(agent_info, env_info)\n",
    "rl_glue.agent.network.weights = trained_weights"
   ]
  },
  {
   "cell_type": "code",
   "execution_count": 4,
   "metadata": {},
   "outputs": [
    {
     "name": "stderr",
     "output_type": "stream",
     "text": [
      "100%|█████████▉| 999/1000 [01:53<00:00,  8.83it/s]"
     ]
    },
    {
     "name": "stdout",
     "output_type": "stream",
     "text": [
      "Terminal State: Max number of steps completed.\n",
      "Reward: 344.07\n"
     ]
    },
    {
     "name": "stderr",
     "output_type": "stream",
     "text": [
      "\n"
     ]
    },
    {
     "data": {
      "text/plain": [
       "[344.07]"
      ]
     },
     "execution_count": 4,
     "metadata": {},
     "output_type": "execute_result"
    }
   ],
   "source": [
    "seed_nums = [32, 45, 46, 83, 123, 934, 563, 1023, 27546, 32450]\n",
    "\n",
    "seed_num = seed_nums[0]\n",
    "\n",
    "scores = []\n",
    "\n",
    "\n",
    "for seed_num in seed_nums:\n",
    "    # Start Environment\n",
    "    rl_glue.environment.env_init()\n",
    "    rl_glue.environment.rand_generator = np.random.RandomState(4) # 2, 4, 9, 21\n",
    "\n",
    "    # Change tau (if needed)\n",
    "    rl_glue.agent.tau = 0.0001\n",
    "    time_steps = 1000\n",
    "\n",
    "    observation = rl_glue.environment.env_start()\n",
    "\n",
    "    rl_glue.environment.env.reset(seed=seed_num) # new\n",
    "\n",
    "    transformed_obs = rl_glue.transform_state(observation)\n",
    "    episode_reward = 0\n",
    "\n",
    "    for i in tqdm(range(time_steps)):\n",
    "        \n",
    "        # Select Action\n",
    "        action = rl_glue.agent.policy(transformed_obs)\n",
    "\n",
    "        # Do Action\n",
    "        reward, observation, is_terminal = rl_glue.environment.env_step(action)\n",
    "        transformed_obs = transformed_obs = observation = rl_glue.transform_state(observation)\n",
    "\n",
    "        episode_reward += reward\n",
    "\n",
    "        if is_terminal:\n",
    "            message = \"Terminal State: Max number of steps completed.\"\n",
    "            if i != time_steps-1:\n",
    "                message = \"Terminal State: All tiles visited!\"\n",
    "            print(message)\n",
    "            print(f'Reward: {round(episode_reward,2)}')\n",
    "            scores.append(round(episode_reward, 2))\n",
    "            break\n",
    "            observation = rl_glue.environment.env_start()\n",
    "\n",
    "        # Render\n",
    "        #rl_glue.environment.env.render();\n",
    "\n",
    "    rl_glue.environment.env.close();\n",
    "    break\n",
    "\n",
    "scores"
   ]
  },
  {
   "cell_type": "code",
   "execution_count": 4,
   "metadata": {},
   "outputs": [
    {
     "data": {
      "text/plain": [
       "573.2560000000001"
      ]
     },
     "execution_count": 4,
     "metadata": {},
     "output_type": "execute_result"
    }
   ],
   "source": [
    "np.mean(scores)"
   ]
  },
  {
   "cell_type": "markdown",
   "metadata": {},
   "source": [
    "# Agent 2"
   ]
  },
  {
   "cell_type": "code",
   "execution_count": 24,
   "metadata": {},
   "outputs": [],
   "source": [
    "import gym\n",
    "from collections import deque\n",
    "from CarRacingDQNAgent import CarRacingDQNAgent\n",
    "from common_functions import process_state_image\n",
    "from common_functions import generate_state_frame_stack_from_queue\n",
    "from tqdm import tqdm"
   ]
  },
  {
   "cell_type": "code",
   "execution_count": 35,
   "metadata": {},
   "outputs": [
    {
     "name": "stderr",
     "output_type": "stream",
     "text": [
      "100%|█████████▉| 999/1000 [01:09<00:00, 14.33it/s]"
     ]
    },
    {
     "name": "stdout",
     "output_type": "stream",
     "text": [
      "Reward: 568.79\n"
     ]
    },
    {
     "name": "stderr",
     "output_type": "stream",
     "text": [
      "\n"
     ]
    }
   ],
   "source": [
    "train_model = 'trained_networks/discrete_trial_100.h5'\n",
    "seed_nums = [32, 45, 46, 83, 123, 934, 563, 1023, 27546, 32450]\n",
    "time_steps = 1000\n",
    "\n",
    "scores = []\n",
    "\n",
    "env = gym.make('CarRacing-v1', continuous=False)\n",
    "agent = CarRacingDQNAgent(epsilon=0) # Set epsilon to 0\n",
    "agent.load(train_model)\n",
    "\n",
    "seed_nums = [seed_nums[2-1]]\n",
    "\n",
    "for e,seed_num in enumerate(seed_nums):\n",
    "    init_state = env.reset(seed=seed_num)\n",
    "    init_state = process_state_image(init_state, env)\n",
    "\n",
    "    total_reward = 0\n",
    "    punishment_counter = 0\n",
    "    state_frame_stack_queue = deque([init_state]*agent.frame_stack_num, maxlen=agent.frame_stack_num)\n",
    "    \n",
    "    for i in tqdm(range(time_steps)):\n",
    "        env.render()\n",
    "\n",
    "        if i==0:\n",
    "            time.sleep(5)\n",
    "\n",
    "        current_state_frame_stack = generate_state_frame_stack_from_queue(state_frame_stack_queue)\n",
    "        action = agent.act(current_state_frame_stack)\n",
    "        next_state, reward, done, info = env.step(action)\n",
    "\n",
    "        total_reward += reward\n",
    "\n",
    "        next_state = process_state_image(next_state, env)\n",
    "        state_frame_stack_queue.append(next_state)\n",
    "\n",
    "        if done:\n",
    "            print(f'Reward: {round(total_reward,2)}')\n",
    "            scores.append(round(total_reward,2))\n",
    "            env.close()\n",
    "            break\n"
   ]
  },
  {
   "cell_type": "code",
   "execution_count": 9,
   "metadata": {},
   "outputs": [
    {
     "data": {
      "text/plain": [
       "697.769"
      ]
     },
     "execution_count": 9,
     "metadata": {},
     "output_type": "execute_result"
    }
   ],
   "source": [
    "np.mean(scores)"
   ]
  },
  {
   "cell_type": "markdown",
   "metadata": {},
   "source": [
    "# Agent 3"
   ]
  },
  {
   "cell_type": "code",
   "execution_count": 12,
   "metadata": {},
   "outputs": [],
   "source": [
    "import gym\n",
    "from collections import deque\n",
    "from CarRacingDQNAgent2 import CarRacingDQNAgent\n",
    "from common_functions2 import process_state_image\n",
    "from common_functions2 import generate_state_frame_stack_from_queue\n",
    "from tqdm import tqdm\n",
    "import numpy as np\n"
   ]
  },
  {
   "cell_type": "code",
   "execution_count": 17,
   "metadata": {},
   "outputs": [],
   "source": [
    "import time"
   ]
  },
  {
   "cell_type": "code",
   "execution_count": 22,
   "metadata": {},
   "outputs": [
    {
     "name": "stderr",
     "output_type": "stream",
     "text": [
      "100%|█████████▉| 999/1000 [01:10<00:00, 14.11it/s]"
     ]
    },
    {
     "name": "stdout",
     "output_type": "stream",
     "text": [
      "Reward: 888.68\n"
     ]
    },
    {
     "name": "stderr",
     "output_type": "stream",
     "text": [
      "\n"
     ]
    },
    {
     "data": {
      "text/plain": [
       "888.68"
      ]
     },
     "execution_count": 22,
     "metadata": {},
     "output_type": "execute_result"
    }
   ],
   "source": [
    "train_model = 'trained_networks/discrete_hybrid_trial_100.h5'\n",
    "seed_nums = [32, 45, 46, 83, 123, 934, 563, 1023, 27546, 32450]\n",
    "time_steps = 1000\n",
    "\n",
    "scores = []\n",
    "\n",
    "env = gym.make('CarRacing-v1', continuous=False)\n",
    "agent = CarRacingDQNAgent(epsilon=0) # Set epsilon to 0\n",
    "agent.load(train_model)\n",
    "\n",
    "seed_nums = [seed_nums[9-1]]\n",
    "\n",
    "for e,seed_num in enumerate(seed_nums):\n",
    "    init_state = env.reset(seed=seed_num)\n",
    "    init_state = process_state_image(init_state, env)\n",
    "\n",
    "    total_reward = 0\n",
    "    punishment_counter = 0\n",
    "    state_frame_stack_queue = deque([init_state]*agent.frame_stack_num, maxlen=agent.frame_stack_num)\n",
    "    \n",
    "    for i in tqdm(range(time_steps)):\n",
    "        env.render()\n",
    "\n",
    "        if i==0:\n",
    "            time.sleep(5)\n",
    "\n",
    "        current_state_frame_stack = generate_state_frame_stack_from_queue(state_frame_stack_queue)\n",
    "        action = agent.act(current_state_frame_stack)\n",
    "        next_state, reward, done, info = env.step(action)\n",
    "\n",
    "        total_reward += reward\n",
    "\n",
    "        next_state = process_state_image(next_state, env)\n",
    "        state_frame_stack_queue.append(next_state)\n",
    "\n",
    "        if done:\n",
    "            print(f'Reward: {round(total_reward,2)}')\n",
    "            scores.append(round(total_reward,2))\n",
    "            env.close()\n",
    "            break\n",
    "\n",
    "np.mean(scores)"
   ]
  },
  {
   "cell_type": "code",
   "execution_count": null,
   "metadata": {},
   "outputs": [],
   "source": []
  }
 ],
 "metadata": {
  "kernelspec": {
   "display_name": "Python 3.9.12 ('tf')",
   "language": "python",
   "name": "python3"
  },
  "language_info": {
   "codemirror_mode": {
    "name": "ipython",
    "version": 3
   },
   "file_extension": ".py",
   "mimetype": "text/x-python",
   "name": "python",
   "nbconvert_exporter": "python",
   "pygments_lexer": "ipython3",
   "version": "3.9.12"
  },
  "orig_nbformat": 4,
  "vscode": {
   "interpreter": {
    "hash": "78ddfc3686b8b7161f2836984651df038ec9a0366954334fc42499f59ad2b3c8"
   }
  }
 },
 "nbformat": 4,
 "nbformat_minor": 2
}
