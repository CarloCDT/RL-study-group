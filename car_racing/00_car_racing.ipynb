{
 "cells": [
  {
   "cell_type": "code",
   "execution_count": 72,
   "metadata": {},
   "outputs": [],
   "source": [
    "import numpy as np\n",
    "import gym\n",
    "import matplotlib.pyplot as plt\n",
    "\n",
    "plt.rcParams[\"figure.figsize\"] = (9,9)"
   ]
  },
  {
   "cell_type": "code",
   "execution_count": 2,
   "metadata": {},
   "outputs": [],
   "source": [
    "# Make env\n",
    "env = gym.make(\"CarRacing-v1\", continuous=False)"
   ]
  },
  {
   "cell_type": "code",
   "execution_count": 3,
   "metadata": {},
   "outputs": [],
   "source": [
    "# Render\n",
    "observation, info = env.reset(seed=42, return_info=True)\n",
    "env.render();"
   ]
  },
  {
   "cell_type": "code",
   "execution_count": 73,
   "metadata": {},
   "outputs": [
    {
     "name": "stdout",
     "output_type": "stream",
     "text": [
      "True Speed: 16.665337762188273\n"
     ]
    },
    {
     "data": {
      "image/png": "[encoded data removed]",
      "text/plain": [
       "<Figure size 648x648 with 1 Axes>"
      ]
     },
     "metadata": {
      "needs_background": "light"
     },
     "output_type": "display_data"
    }
   ],
   "source": [
    "#action = env.action_space.sample()\n",
    "action = 3\n",
    "observation, reward, done, info = env.step(action)\n",
    "\n",
    "if done:\n",
    "    print(\"Done!\")\n",
    "    observation, info = env.reset(return_info=True)\n",
    "\n",
    "env.render()\n",
    "\n",
    "\n",
    "true_speed = np.sqrt(np.square(env.car.hull.linearVelocity[0]) + np.square(env.car.hull.linearVelocity[1]))\n",
    "print(f\"True Speed: {true_speed}\")\n",
    "\n",
    "speed_pixels = observation[-12:,11:11+5,:]\n",
    "plt.imshow(speed_pixels);\n",
    "\n",
    "#all_speeds.append(speed)"
   ]
  },
  {
   "cell_type": "markdown",
   "metadata": {},
   "source": [
    "# Sensor Calculations"
   ]
  },
  {
   "cell_type": "markdown",
   "metadata": {},
   "source": [
    "### Speed Sensors\n",
    "For now we will use the true speed (cheating alert!) from the environment. If this works we can use computer vision to read the speed from the screen."
   ]
  },
  {
   "cell_type": "code",
   "execution_count": 76,
   "metadata": {},
   "outputs": [
    {
     "name": "stdout",
     "output_type": "stream",
     "text": [
      "Speed Sensor: 16.665337762188273\n"
     ]
    }
   ],
   "source": [
    "true_speed = np.sqrt(np.square(env.car.hull.linearVelocity[0]) + np.square(env.car.hull.linearVelocity[1]))\n",
    "print(f\"Speed Sensor: {true_speed}\")"
   ]
  },
  {
   "cell_type": "markdown",
   "metadata": {},
   "source": [
    "## Direction Sensors"
   ]
  },
  {
   "cell_type": "code",
   "execution_count": 690,
   "metadata": {},
   "outputs": [
    {
     "data": {
      "image/png": "[encoded data removed]",
      "text/plain": [
       "<Figure size 648x648 with 1 Axes>"
      ]
     },
     "metadata": {
      "needs_background": "light"
     },
     "output_type": "display_data"
    }
   ],
   "source": [
    "# Sensors\n",
    "sensor_observation = observation.copy()\n",
    "\n",
    "# Print Sensor Location\n",
    "car_front = [65, 48]\n",
    "\n",
    "# Sensor Color\n",
    "sensor_observation[65, 48, 0] = 155\n",
    "sensor_observation[65, 48, 1] = 93\n",
    "sensor_observation[65, 48, 2] = 229\n",
    "\n",
    "car = sensor_observation[65:78,44:52,:]\n",
    "plt.imshow(car);"
   ]
  },
  {
   "cell_type": "markdown",
   "metadata": {},
   "source": [
    "### Front Sensor"
   ]
  },
  {
   "cell_type": "code",
   "execution_count": 691,
   "metadata": {},
   "outputs": [],
   "source": [
    "# Is road\n",
    "def is_road(pixel):\n",
    "    if pixel[1]>pixel[0]*1.3 and pixel[1]>pixel[2]*1.3:\n",
    "        # Not grey (probably?)\n",
    "        return False\n",
    "    else:\n",
    "        return True"
   ]
  },
  {
   "cell_type": "markdown",
   "metadata": {},
   "source": [
    "We will add a sensor in the front of the car. This will only work once the camera stabilizes. The sensor location is shown in purple."
   ]
  },
  {
   "cell_type": "code",
   "execution_count": 720,
   "metadata": {},
   "outputs": [],
   "source": [
    "# Front Sensor\n",
    "def get_front_sensor(observation, car_front):\n",
    "    for i in range(car_front[0]):\n",
    "        pixel = observation[car_front[0]-i, car_front[1], :]\n",
    "        if not is_road(pixel):\n",
    "            return i\n",
    "    return car_front[0]"
   ]
  },
  {
   "cell_type": "code",
   "execution_count": 693,
   "metadata": {},
   "outputs": [
    {
     "name": "stdout",
     "output_type": "stream",
     "text": [
      "Front Sensor: 65\n"
     ]
    },
    {
     "data": {
      "image/png": "[encoded data removed]",
      "text/plain": [
       "<Figure size 648x648 with 1 Axes>"
      ]
     },
     "metadata": {
      "needs_background": "light"
     },
     "output_type": "display_data"
    }
   ],
   "source": [
    "# Front Sensor\n",
    "front_sensor_output = get_front_sensor(observation, car_front)\n",
    "\n",
    "for i in range(1, front_sensor_output):\n",
    "    sensor_observation[car_front[0]-i, car_front[1], 0] = 254\n",
    "    sensor_observation[car_front[0]-i, car_front[1], 1] = 228\n",
    "    sensor_observation[car_front[0]-i, car_front[1], 2] = 64\n",
    "\n",
    "print(f\"Front Sensor: {front_sensor_output}\")\n",
    "plt.imshow(sensor_observation);"
   ]
  },
  {
   "cell_type": "markdown",
   "metadata": {},
   "source": [
    "### Left Sensor"
   ]
  },
  {
   "cell_type": "code",
   "execution_count": 694,
   "metadata": {},
   "outputs": [],
   "source": [
    "# Front Left Sensor\n",
    "def get_left_sensor(observation, car_front):\n",
    "    for i in range(car_front[0]):\n",
    "        pixel = observation[car_front[0]-i, car_front[1]-i//4, :]\n",
    "        if not is_road(pixel):\n",
    "            return i\n",
    "    return car_front[0]\n",
    "\n",
    "def get_full_left_sensor(observation, car_front):\n",
    "    for i in range(car_front[1]):\n",
    "        pixel = observation[car_front[0], car_front[1]-i, :]\n",
    "        if not is_road(pixel):\n",
    "            return i\n",
    "    return car_front[1]"
   ]
  },
  {
   "cell_type": "code",
   "execution_count": 695,
   "metadata": {},
   "outputs": [
    {
     "name": "stdout",
     "output_type": "stream",
     "text": [
      "Left Sensor: 20\n",
      "Full Left Sensor: 7\n"
     ]
    },
    {
     "data": {
      "image/png": "[encoded data removed]",
      "text/plain": [
       "<Figure size 648x648 with 1 Axes>"
      ]
     },
     "metadata": {
      "needs_background": "light"
     },
     "output_type": "display_data"
    }
   ],
   "source": [
    "# Front Left Sensor\n",
    "left_sensor_output = get_left_sensor(observation, car_front)\n",
    "full_left_sensor_output = get_full_left_sensor(observation, car_front)\n",
    "\n",
    "for i in range(1, left_sensor_output):\n",
    "    sensor_observation[car_front[0]-i, car_front[1]-i//4, 0] = 254\n",
    "    sensor_observation[car_front[0]-i, car_front[1]-i//4, 1] = 228\n",
    "    sensor_observation[car_front[0]-i, car_front[1]-i//4, 2] = 64\n",
    "\n",
    "for i in range(1, full_left_sensor_output):\n",
    "    sensor_observation[car_front[0], car_front[1]-i, 0] = 254\n",
    "    sensor_observation[car_front[0], car_front[1]-i, 1] = 228\n",
    "    sensor_observation[car_front[0], car_front[1]-i, 2] = 64\n",
    "\n",
    "print(f\"Left Sensor: {left_sensor_output}\")\n",
    "print(f\"Full Left Sensor: {full_left_sensor_output}\")\n",
    "plt.imshow(sensor_observation);"
   ]
  },
  {
   "cell_type": "markdown",
   "metadata": {},
   "source": [
    "### Right Sensor"
   ]
  },
  {
   "cell_type": "code",
   "execution_count": 722,
   "metadata": {},
   "outputs": [],
   "source": [
    "# Front Right Sensor\n",
    "def get_right_sensor(observation, car_front):\n",
    "    for i in range(car_front[0]):\n",
    "\n",
    "        pixel = observation[car_front[0]-i, car_front[1]+i//4, :]\n",
    "        if not is_road(pixel):\n",
    "            return i\n",
    "    return car_front[0]\n",
    "\n",
    "def get_full_right_sensor(observation, car_front):\n",
    "    for i in range(96-car_front[1]):\n",
    "\n",
    "        pixel = observation[car_front[0], car_front[1]+i, :]\n",
    "        if not is_road(pixel):\n",
    "            return i\n",
    "    return 96-car_front[1]"
   ]
  },
  {
   "cell_type": "code",
   "execution_count": 723,
   "metadata": {},
   "outputs": [
    {
     "name": "stdout",
     "output_type": "stream",
     "text": [
      "Right Sensor: 20\n",
      "Full Right Sensor: 13\n"
     ]
    },
    {
     "data": {
      "image/png": "[encoded data removed]",
      "text/plain": [
       "<Figure size 648x648 with 1 Axes>"
      ]
     },
     "metadata": {
      "needs_background": "light"
     },
     "output_type": "display_data"
    }
   ],
   "source": [
    "# Front Right Sensor\n",
    "right_sensor_output = get_right_sensor(observation, car_front)\n",
    "full_right_sensor_output = get_full_right_sensor(observation, car_front)\n",
    "\n",
    "for i in range(1, right_sensor_output):\n",
    "    sensor_observation[car_front[0]-i, car_front[1]+i//4, 0] = 254\n",
    "    sensor_observation[car_front[0]-i, car_front[1]+i//4, 1] = 228\n",
    "    sensor_observation[car_front[0]-i, car_front[1]+i//4, 2] = 64\n",
    "\n",
    "for i in range(1, full_right_sensor_output):\n",
    "    sensor_observation[car_front[0], car_front[1]+i, 0] = 254\n",
    "    sensor_observation[car_front[0], car_front[1]+i, 1] = 228\n",
    "    sensor_observation[car_front[0], car_front[1]+i, 2] = 64\n",
    "\n",
    "print(f\"Right Sensor: {right_sensor_output}\")\n",
    "print(f\"Full Right Sensor: {full_right_sensor_output}\")\n",
    "plt.imshow(sensor_observation);"
   ]
  },
  {
   "cell_type": "code",
   "execution_count": 724,
   "metadata": {},
   "outputs": [
    {
     "name": "stdout",
     "output_type": "stream",
     "text": [
      "Speed Sensor: 48.49329612454263\n",
      "Front Sensor: 28\n",
      "Left Sensor: 63\n",
      "Full Left Sensor: 12\n",
      "Right Sensor: 18\n",
      "Full Right Sensor: 12\n"
     ]
    },
    {
     "ename": "",
     "evalue": "",
     "output_type": "error",
     "traceback": [
      "\u001b[1;31mThe Kernel crashed while executing code in the the current cell or a previous cell. Please review the code in the cell(s) to identify a possible cause of the failure. Click <a href='https://aka.ms/vscodeJupyterKernelCrash'>here</a> for more info. View Jupyter <a href='command:jupyter.viewOutput'>log</a> for further details."
     ]
    }
   ],
   "source": [
    "### Simple Sensors \n",
    "\n",
    "# Select Action\n",
    "# 0=do_nothing, 1=right, 2=left, 3=gas, 4=brake\n",
    "action = 0\n",
    "\n",
    "# Step\n",
    "observation, reward, done, info = env.step(action)\n",
    "\n",
    "if done:\n",
    "    print(\"Done!\")\n",
    "    observation, info = env.reset(return_info=True)\n",
    "\n",
    "env.render()\n",
    "\n",
    "# Sensors\n",
    "true_speed = np.sqrt(np.square(env.car.hull.linearVelocity[0]) + np.square(env.car.hull.linearVelocity[1]))\n",
    "front_sensor_output = get_front_sensor(observation, car_front)\n",
    "left_sensor_output = get_left_sensor(observation, car_front)\n",
    "full_left_sensor_output = get_full_left_sensor(observation, car_front)\n",
    "right_sensor_output = get_right_sensor(observation, car_front)\n",
    "full_right_sensor_output = get_full_right_sensor(observation, car_front)\n",
    "\n",
    "print(f\"Speed Sensor: {true_speed}\")\n",
    "print(f\"Front Sensor: {front_sensor_output}\")\n",
    "print(f\"Left Sensor: {left_sensor_output}\")\n",
    "print(f\"Full Left Sensor: {full_left_sensor_output}\")\n",
    "print(f\"Right Sensor: {right_sensor_output}\")\n",
    "print(f\"Full Right Sensor: {full_right_sensor_output}\")"
   ]
  },
  {
   "cell_type": "code",
   "execution_count": 719,
   "metadata": {},
   "outputs": [
    {
     "data": {
      "image/png": "[encoded data removed]",
      "text/plain": [
       "<Figure size 648x648 with 1 Axes>"
      ]
     },
     "metadata": {
      "needs_background": "light"
     },
     "output_type": "display_data"
    }
   ],
   "source": [
    "# Sensors\n",
    "sensor_observation = observation.copy()\n",
    "\n",
    "# Print Sensor Location\n",
    "car_front = [65, 48]\n",
    "\n",
    "# Sensor Color\n",
    "sensor_observation[65, 48, 0] = 155\n",
    "sensor_observation[65, 48, 1] = 93\n",
    "sensor_observation[65, 48, 2] = 229\n",
    "\n",
    "for i in range(1, right_sensor_output):\n",
    "    sensor_observation[car_front[0]-i, car_front[1]+i//4, 0] = 254\n",
    "    sensor_observation[car_front[0]-i, car_front[1]+i//4, 1] = 228\n",
    "    sensor_observation[car_front[0]-i, car_front[1]+i//4, 2] = 64\n",
    "\n",
    "for i in range(1, left_sensor_output):\n",
    "    sensor_observation[car_front[0]-i, car_front[1]-i//4, 0] = 254\n",
    "    sensor_observation[car_front[0]-i, car_front[1]-i//4, 1] = 228\n",
    "    sensor_observation[car_front[0]-i, car_front[1]-i//4, 2] = 64\n",
    "\n",
    "for i in range(1, front_sensor_output):\n",
    "    sensor_observation[car_front[0]-i, car_front[1], 0] = 254\n",
    "    sensor_observation[car_front[0]-i, car_front[1], 1] = 228\n",
    "    sensor_observation[car_front[0]-i, car_front[1], 2] = 64\n",
    "\n",
    "for i in range(1, full_right_sensor_output):\n",
    "    sensor_observation[car_front[0], car_front[1]+i, 0] = 254\n",
    "    sensor_observation[car_front[0], car_front[1]+i, 1] = 228\n",
    "    sensor_observation[car_front[0], car_front[1]+i, 2] = 64\n",
    "\n",
    "for i in range(1, full_left_sensor_output):\n",
    "    sensor_observation[car_front[0], car_front[1]-i, 0] = 254\n",
    "    sensor_observation[car_front[0], car_front[1]-i, 1] = 228\n",
    "    sensor_observation[car_front[0], car_front[1]-i, 2] = 64\n",
    "\n",
    "plt.imshow(sensor_observation);"
   ]
  },
  {
   "cell_type": "markdown",
   "metadata": {},
   "source": [
    "### Extra Sensors\n",
    "Maybe a sensor to show the car there's void in front could help"
   ]
  }
 ],
 "metadata": {
  "interpreter": {
   "hash": "41c74caa6da4fd46948aae98c51b7a133fd5c80975207b27cf3047040559b6b4"
  },
  "kernelspec": {
   "display_name": "Python 3.8.10 ('RL')",
   "language": "python",
   "name": "python3"
  },
  "language_info": {
   "codemirror_mode": {
    "name": "ipython",
    "version": 3
   },
   "file_extension": ".py",
   "mimetype": "text/x-python",
   "name": "python",
   "nbconvert_exporter": "python",
   "pygments_lexer": "ipython3",
   "version": "3.8.10"
  },
  "orig_nbformat": 4
 },
 "nbformat": 4,
 "nbformat_minor": 2
}
